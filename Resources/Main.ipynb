{
 "cells": [
  {
   "cell_type": "markdown",
   "metadata": {},
   "source": [
    "# Kaggle case: \n",
    "https://www.kaggle.com/miell534/gamespot-article-classification\n",
    "\n",
    "La base de dades que procesare en aquesta entrega conte els articles (trobats en www.gamespot.com) sobre els millors i pitjors jocs fins l'any 2019. Aquests articles son reviews del joc i li otorgan la nota. \n",
    "\n",
    "## Atributs:\n",
    "Aquesta base te 12 atributs dels quals 4 son numerics la resta esta composta per 2 links, 3 categorics i 3 strings. Previ a cap analisis dels atributs descarto utilitzar els links per generar els meus models.\n",
    "\n",
    "### Atributs numerics:\n",
    " - ID: va del 0 al 1183 i cada joc en te un diferent no te altre utilitat que no sigui per identificar i iteratr les diferents files de la base de dades.\n",
    " - score: determina la puntuacio que un joc te, aquesta te un domini entre 1.6 i 10 pero com es pot observar en el historigrama presentat mes a baix hi ha un absencia de mostres desde el 4,9 fins al 8,3. Aixo prove del fet que la base de dades nomes te els jocs amb les puntuacions mes altes i baixes, aixi que els que es troben en el mitj no tenen entrades. \n",
    " - Polarity i Subjectivity: son els dos atributs numerics restants i son valors generats amb TextBlob (llibreria externa de tractament de textos) a partir de l'article del joc en questio. Aquests estan el la base de dades amb el proposit de predir la score, en el codi sobministrat per el creador de la base de dades s'explica breument com s'extreuen.\n",
    " \n",
    "### Altres atributs:\n",
    " - name: el nom del joc.\n",
    " - tagline: el titol de l'article del joc.\n",
    " - boxart: link a la imatge de la portada del joc (gran part dels links no funcionen)\n",
    " - system: determina la plataforma en la que el joc va ser disponible primer. Aquest atribut esta compost per 723 consoles diferents aixi que es bastant inutilitzable a l'hora de fer models.\n",
    " - link: el link a l'article, el creador de la base de dades l'utilitza per extreuren l'article utilitzant BeautifulSoup.\n",
    " - classifier: atribut que prove de la score del joc, si aquest es troba en el grup amb score alta el valor es \"pos\" i respectivament amb els de score baixa i \"neg\". Aquest es molt util per entrenar models de clasificacio, com ara un model NaiveBayes. \n",
    " - article i filtered article: l'article raw amb totes les paraules d'aquest i l'article filtrat mitjancant \"stopwords\" un recurs utilitzat per filtrar les paraules mes utilitzades i fer la execucio molt mes rapida.\n",
    " \n",
    "### Atribut objectiu:\n",
    "\n",
    "Utilitzare el score com a atribut onjectiu ja que aquest es el que hem sembla mes relevant, mes a baix faig la observacio que el score i el classifier poden ser directament igualats aixi que en algun model l'objectiu es el classifier."
   ]
  },
  {
   "cell_type": "markdown",
   "metadata": {},
   "source": [
    "## Recursos externs utilitzats:"
   ]
  },
  {
   "cell_type": "code",
   "execution_count": 1,
   "metadata": {
    "scrolled": true
   },
   "outputs": [],
   "source": [
    "#Per a calculs i gestio de arrays:\n",
    "import math\n",
    "import numpy as np\n",
    "\n",
    "#Gestio de la base de dades:\n",
    "import pandas as pd\n",
    "\n",
    "#Preprocessing:\n",
    "import sklearn \n",
    "from sklearn import preprocessing\n",
    "from sklearn.decomposition import PCA\n",
    "from sklearn.feature_extraction.text import CountVectorizer\n",
    "\n",
    "#Visualitzacio:\n",
    "import seaborn as sns;\n",
    "from matplotlib import pyplot as plt\n",
    "from mpl_toolkits import mplot3d\n",
    "\n",
    "#Estructura entrenament, test...  \n",
    "from sklearn.model_selection import train_test_split\n",
    "from sklearn.model_selection import cross_val_score\n",
    "\n",
    "#Models Sklearn:\n",
    "from sklearn.linear_model import LinearRegression\n",
    "from sklearn.linear_model import LogisticRegression\n",
    "\n",
    "#Models TextBlob:\n",
    "from textblob import TextBlob\n",
    "from textblob import classifiers"
   ]
  },
  {
   "cell_type": "markdown",
   "metadata": {},
   "source": [
    "## Base de dades:\n",
    "Mitjancant pandas extraiem les dades del fitxer csv i les posem en un dataset per a la seva facil manipulacio, despres d'aixo comprovo que s'hagi importat correctament la base de dades."
   ]
  },
  {
   "cell_type": "code",
   "execution_count": 2,
   "metadata": {},
   "outputs": [
    {
     "name": "stdout",
     "output_type": "stream",
     "text": [
      "El dataset te (entrades, atributs):  (1184, 12)\n"
     ]
    }
   ],
   "source": [
    "# Funció per a llegir dades en format csv:\n",
    "def load_dataset(path):\n",
    "    ds = pd.read_csv(path, header=0, delimiter=',')\n",
    "    return ds\n",
    "\n",
    "pd.set_option('display.float_format', lambda x: '%.2f' % x)\n",
    "dataset = load_dataset('gamespot_game_reviews.csv')\n",
    "print(\"El dataset te (entrades, atributs): \", dataset.shape[:])"
   ]
  },
  {
   "cell_type": "markdown",
   "metadata": {},
   "source": [
    "## Tractament dels atributs:\n",
    "Primer creem un dataset nou i comprovem les seves dimencions:"
   ]
  },
  {
   "cell_type": "code",
   "execution_count": 3,
   "metadata": {},
   "outputs": [
    {
     "name": "stdout",
     "output_type": "stream",
     "text": [
      "1184\n"
     ]
    }
   ],
   "source": [
    "df = pd.DataFrame(dataset)\n",
    "print(df.shape[0])"
   ]
  },
  {
   "cell_type": "markdown",
   "metadata": {},
   "source": [
    "He observat que hi ha una entrada que esta corompuda ja que al accedir a aquesta l'article es inexistent i dona valors erronis tant en subjectivity com polarity aixi que la treiem i ens asegurem de que no n'hi hagin mes."
   ]
  },
  {
   "cell_type": "code",
   "execution_count": 4,
   "metadata": {},
   "outputs": [
    {
     "name": "stdout",
     "output_type": "stream",
     "text": [
      "1183\n"
     ]
    }
   ],
   "source": [
    "for i in range(df.shape[0]):\n",
    "    if (isinstance(df['article'][i], float)):\n",
    "        df = df.drop([df.index[i]])\n",
    "        \n",
    "print(df.shape[0])"
   ]
  },
  {
   "cell_type": "markdown",
   "metadata": {},
   "source": [
    "Tambe he detectat que en el proces de canviar de char a bool l'atribut classifier que aquests estan ordenats de 8 en 8 intercalant positius i negatius, aixo no hem causara cap problema ja que sempre avans de entrenar els models selecciono els elements de manera aleatoria, pero mha semblat curios."
   ]
  },
  {
   "cell_type": "code",
   "execution_count": 5,
   "metadata": {},
   "outputs": [
    {
     "name": "stdout",
     "output_type": "stream",
     "text": [
      "[0, 0, 0, 0, 0, 0, 0, 0, 1, 1, 1, 1, 1, 1, 1, 1]\n"
     ]
    }
   ],
   "source": [
    "Y = [0 if x == 'pos' else 1 for x in df['classifier']]\n",
    "print(Y[:16])"
   ]
  },
  {
   "cell_type": "markdown",
   "metadata": {},
   "source": [
    "Canviar el atribut system de categorit a numeric (strings a int) per cada consola diferent:"
   ]
  },
  {
   "cell_type": "code",
   "execution_count": 6,
   "metadata": {},
   "outputs": [],
   "source": [
    "df['system'] = df['system'].astype(str)\n",
    "label_encoder = sklearn.preprocessing.LabelEncoder() \n",
    "df['system'] = label_encoder.fit_transform(df['system'])"
   ]
  },
  {
   "cell_type": "markdown",
   "metadata": {},
   "source": [
    "### PCA"
   ]
  },
  {
   "cell_type": "code",
   "execution_count": 7,
   "metadata": {},
   "outputs": [],
   "source": [
    "X = df.values[:, [10, 11]]\n",
    "\n",
    "pca = PCA()\n",
    "pca.fit(X)\n",
    "pca_data = pca.transform(X)"
   ]
  },
  {
   "cell_type": "code",
   "execution_count": 8,
   "metadata": {},
   "outputs": [
    {
     "data": {
      "text/plain": [
       "0          0\n",
       "1          1\n",
       "2          2\n",
       "3          3\n",
       "4          4\n",
       "        ... \n",
       "1179    1179\n",
       "1180    1180\n",
       "1181    1181\n",
       "1182    1182\n",
       "1183    1183\n",
       "Name: Unnamed: 0, Length: 1183, dtype: int64"
      ]
     },
     "execution_count": 8,
     "metadata": {},
     "output_type": "execute_result"
    }
   ],
   "source": [
    "labels = ['PC1']\n",
    "#df = pd.DataFrame(pca_data[:,0], columns=labels)\n",
    "df.insert(0, \"PC1\", pca_data[:,0], True)\n",
    "df.iloc[:,1]"
   ]
  },
  {
   "cell_type": "markdown",
   "metadata": {},
   "source": [
    "## VIsualitzacio dels atributs:\n",
    "En aquest pas podre observar quins atributs hem poden ser de mes utilitat a l'hora de fer els models:"
   ]
  },
  {
   "cell_type": "markdown",
   "metadata": {},
   "source": [
    "En quant als atributs numerics tant la destribucio de la polarity i subjectivity no ens dona gaire informacio pero en el cas de la score podem veure un problema que ens impedira aplicar varios tipus de models ja que com he mencionat abans les dades l'aquest atribut estan dividides en 2 grups molt establerts."
   ]
  },
  {
   "cell_type": "code",
   "execution_count": 9,
   "metadata": {},
   "outputs": [
    {
     "data": {
      "image/png": "[encoded data removed]",
      "text/plain": [
       "<Figure size 864x504 with 4 Axes>"
      ]
     },
     "metadata": {
      "needs_background": "light"
     },
     "output_type": "display_data"
    }
   ],
   "source": [
    "df[['score', 'polarity','subjectivity','PC1']].hist(figsize=(12,7), alpha=0.5)\n",
    "plt.show()"
   ]
  },
  {
   "cell_type": "markdown",
   "metadata": {},
   "source": [
    "### Atributs numerics i score:\n",
    "Com he mencionat abans tant polarity com subjectivity son dos atributs generats mitjancant TextBlob amb l'objectiu de construir un model eficient per predir la score. \n",
    "\n",
    "Tot i aixo a causa de l'ausencia d'entrades amb score intermitja models de regresio lineal no seran molt efectius, per tant tindrem que utilitzar models logistics ja que les dades estan agrupades en 2 molt clarament."
   ]
  },
  {
   "cell_type": "code",
   "execution_count": 10,
   "metadata": {},
   "outputs": [
    {
     "data": {
      "image/png": "[encoded data removed]",
      "text/plain": [
       "<Figure size 432x288 with 1 Axes>"
      ]
     },
     "metadata": {
      "needs_background": "light"
     },
     "output_type": "display_data"
    },
    {
     "data": {
      "image/png": "[encoded data removed]",
      "text/plain": [
       "<Figure size 432x288 with 1 Axes>"
      ]
     },
     "metadata": {
      "needs_background": "light"
     },
     "output_type": "display_data"
    }
   ],
   "source": [
    "df.plot(kind='scatter',x='score',y='polarity',color='red', alpha=0.3)\n",
    "plt.show()\n",
    "\n",
    "df.plot(kind='scatter',x='score',y='subjectivity',color='red', alpha=0.3)\n",
    "plt.show()"
   ]
  },
  {
   "cell_type": "markdown",
   "metadata": {},
   "source": [
    "Ta li com era de esperat la score i el classifier estan directament relacionats i amb un model logistic sera facil extreure un 100% de precisio ja que la ausencia de scores intermitjes ens deixa una frontera molt clara entre la clase positiva i negativa."
   ]
  },
  {
   "cell_type": "code",
   "execution_count": 11,
   "metadata": {},
   "outputs": [
    {
     "data": {
      "image/png": "[encoded data removed]",
      "text/plain": [
       "<Figure size 432x288 with 1 Axes>"
      ]
     },
     "metadata": {
      "needs_background": "light"
     },
     "output_type": "display_data"
    }
   ],
   "source": [
    "df.plot(kind='scatter',x='score',y='classifier', color='red', alpha=0.3)\n",
    "plt.show()"
   ]
  },
  {
   "cell_type": "markdown",
   "metadata": {},
   "source": [
    "### Correlacio:\n",
    "Per ultim faig una matriu de correlacio per acabar de confirmar la informacio extreta de les grafiques, aqui confirmo que el valor numeric mes util sera la polarity ja que te la correlacio amb la score mes aceptable de la matriu."
   ]
  },
  {
   "cell_type": "code",
   "execution_count": 12,
   "metadata": {},
   "outputs": [
    {
     "data": {
      "image/png": "[encoded data removed]",
      "text/plain": [
       "<Figure size 432x288 with 2 Axes>"
      ]
     },
     "metadata": {
      "needs_background": "light"
     },
     "output_type": "display_data"
    }
   ],
   "source": [
    "correlacio = df[['score', 'polarity','subjectivity','PC1']].corr()\n",
    "plt.figure()\n",
    "ax = sns.heatmap(correlacio, annot=True, linewidths=.5)"
   ]
  },
  {
   "cell_type": "markdown",
   "metadata": {},
   "source": [
    "## LinearRegression\n",
    "No tinc moltes espectatives en aquest model ja que com ja he mencionat les dades no son molt adequades i com ja he comentat avans el tall abrupte en l'atribut SCORE fara aquest tipus de aprenentatge molt poc eficient."
   ]
  },
  {
   "cell_type": "code",
   "execution_count": 13,
   "metadata": {},
   "outputs": [],
   "source": [
    "df.drop([\"PC1\"], axis=1, inplace=True)\n",
    "X = df.values[:, [10, 11]]\n",
    "x_train, x_val, y_train, y_val = train_test_split(X, Y, train_size=0.7)"
   ]
  },
  {
   "cell_type": "code",
   "execution_count": 14,
   "metadata": {},
   "outputs": [
    {
     "name": "stdout",
     "output_type": "stream",
     "text": [
      "0.5027713870778483\n"
     ]
    }
   ],
   "source": [
    "regr = LinearRegression()\n",
    "regr.fit(x_train, y_train)\n",
    "print (regr.score(x_val, y_val))"
   ]
  },
  {
   "cell_type": "markdown",
   "metadata": {},
   "source": [
    "Entreno amb els atributs obtinguts amb el PCA, no espero molt ja que no tenia gaires."
   ]
  },
  {
   "cell_type": "code",
   "execution_count": 15,
   "metadata": {},
   "outputs": [],
   "source": [
    "X = pca_data\n",
    "x_train, x_val, y_train, y_val = train_test_split(X, Y, train_size=0.7)"
   ]
  },
  {
   "cell_type": "code",
   "execution_count": 16,
   "metadata": {},
   "outputs": [
    {
     "name": "stdout",
     "output_type": "stream",
     "text": [
      "0.48214619662312586\n"
     ]
    }
   ],
   "source": [
    "regr = LinearRegression()\n",
    "regr.fit(x_train, y_train)\n",
    "print (regr.score(x_val, y_val))"
   ]
  },
  {
   "cell_type": "markdown",
   "metadata": {},
   "source": [
    "## LogisticRegression"
   ]
  },
  {
   "cell_type": "markdown",
   "metadata": {},
   "source": [
    "Com he comentat les en les grafiques la relacio entre polarity / subjectivity i la score del videojoc es bastant bona per analitzarla amb un clasificador logistic."
   ]
  },
  {
   "cell_type": "code",
   "execution_count": 17,
   "metadata": {},
   "outputs": [],
   "source": [
    "X = df.values[:, [10, 11]]\n",
    "x_train, x_val, y_train, y_val = train_test_split(X, Y, train_size=0.7)"
   ]
  },
  {
   "cell_type": "code",
   "execution_count": 18,
   "metadata": {},
   "outputs": [
    {
     "name": "stdout",
     "output_type": "stream",
     "text": [
      "0.847887323943662\n"
     ]
    }
   ],
   "source": [
    "logr = LogisticRegression()\n",
    "logr.fit(x_train, y_train)\n",
    "print (logr.score(x_val, y_val))"
   ]
  },
  {
   "cell_type": "markdown",
   "metadata": {},
   "source": [
    "Utilitzant la score per predir el clasifier, com es de esperar en aquest model obtindrem una score altisima."
   ]
  },
  {
   "cell_type": "code",
   "execution_count": 19,
   "metadata": {},
   "outputs": [],
   "source": [
    "X = df.values[:, [2]]\n",
    "x_train, x_val, y_train, y_val = train_test_split(X, Y, train_size=0.7)"
   ]
  },
  {
   "cell_type": "code",
   "execution_count": 20,
   "metadata": {},
   "outputs": [
    {
     "name": "stdout",
     "output_type": "stream",
     "text": [
      "1.0\n"
     ]
    }
   ],
   "source": [
    "logr = LogisticRegression()\n",
    "logr.fit(x_train, y_train)\n",
    "print (logr.score(x_val, y_val))"
   ]
  },
  {
   "cell_type": "markdown",
   "metadata": {},
   "source": [
    "## NaiveBayesClassifier\n",
    "Tenint en compte les limitacions de la base de dades he arribat a la conclusio que un  clasificador de naive bayes que mitjancant l'alticle (filtrat i no filtrat) i el tagline prediu si la valoracio es positiva o negativa."
   ]
  },
  {
   "cell_type": "markdown",
   "metadata": {},
   "source": [
    "Genero els conjunts train i validation, en aquest model no necesitem els valors de y aixi que els obiarem, despres entreno i verifico que el model s'ha generat correctament:"
   ]
  },
  {
   "cell_type": "code",
   "execution_count": 21,
   "metadata": {},
   "outputs": [
    {
     "name": "stdout",
     "output_type": "stream",
     "text": [
      "Utilitzant filtered article\n",
      "Most Informative Features\n",
      "           contains(5.1) = True              pos : neg    =      6.4 : 1.0\n",
      "      contains(GameSpot) = True              pos : neg    =      5.0 : 1.0\n",
      "  contains(shoot-'em-up) = True              neg : pos    =      4.9 : 1.0\n",
      "Acuracy:  67.04\n",
      "Utilitzant article\n",
      "Most Informative Features\n",
      "   contains(outstanding) = True              pos : neg    =     19.0 : 1.0\n",
      "        contains(enable) = True              pos : neg    =     18.8 : 1.0\n",
      "    contains(seamlessly) = True              pos : neg    =     18.8 : 1.0\n",
      "Acuracy:  76.9\n",
      "Utilitzant tagline\n",
      "Most Informative Features\n",
      "          contains(best) = True              pos : neg    =     14.9 : 1.0\n",
      "         contains(world) = True              pos : neg    =      9.0 : 1.0\n",
      "   contains(multiplayer) = True              pos : neg    =      8.6 : 1.0\n",
      "Acuracy:  87.04\n"
     ]
    }
   ],
   "source": [
    "print(\"Utilitzant filtered article\")\n",
    "X = df.values[:,[9,7]] #Amb filtered article\n",
    "x_train, x_val, y_train, y_val = train_test_split(X, X, train_size=0.7)\n",
    "\n",
    "gs_classifier = classifiers.NaiveBayesClassifier(x_train)\n",
    "gs_classifier.show_informative_features(3)\n",
    "print(\"Acuracy: \", str(round((gs_classifier.accuracy(x_val)*100), 2)))\n",
    "\n",
    "\n",
    "print(\"Utilitzant article\")\n",
    "X = df.values[:,[8,7]] #Amb article\n",
    "x_train, x_val, y_train, y_val = train_test_split(X, X, train_size=0.7)\n",
    "\n",
    "gs_classifier = classifiers.NaiveBayesClassifier(x_train)\n",
    "gs_classifier.show_informative_features(3)\n",
    "print(\"Acuracy: \", str(round((gs_classifier.accuracy(x_val)*100), 2)))\n",
    "\n",
    "\n",
    "print(\"Utilitzant tagline\")\n",
    "X = df.values[:,[3,7]] #Amb tagline\n",
    "x_train, x_val, y_train, y_val = train_test_split(X, X, train_size=0.7)\n",
    "\n",
    "gs_classifier = classifiers.NaiveBayesClassifier(x_train)\n",
    "gs_classifier.show_informative_features(3)\n",
    "print(\"Acuracy: \", str(round((gs_classifier.accuracy(x_val)*100), 2)))"
   ]
  },
  {
   "cell_type": "markdown",
   "metadata": {},
   "source": [
    "## Model final i Crosvalidation:\n",
    "Per fer el crosvalidation he triat el model que anteriorment m'ha donat millors resultats la regresio logistica utilitzant subjectivity i polarity per a predir la score del videojoc en questio.\n",
    "\n",
    "Faig un crosvalidation amb els resultats del PCA per verificar les deduccions anteriors."
   ]
  },
  {
   "cell_type": "code",
   "execution_count": 22,
   "metadata": {},
   "outputs": [],
   "source": [
    "def logCrosvalLoop():\n",
    "    X = df.values[:, [10, 11]]\n",
    "    x_train, x_val, y_train, y_val = train_test_split(X, Y, train_size=0.7)\n",
    "\n",
    "    logr = LogisticRegression()\n",
    "    logr.fit(x_train, y_train)\n",
    "\n",
    "    scores = cross_val_score(logr, x_train, y_train, cv=10)\n",
    "\n",
    "    scores = pd.Series(scores)\n",
    "    return scores.mean();"
   ]
  },
  {
   "cell_type": "code",
   "execution_count": 23,
   "metadata": {},
   "outputs": [],
   "source": [
    "def logCrosvalLoopPCA():\n",
    "    X = pca_data\n",
    "    x_train, x_val, y_train, y_val = train_test_split(X, Y, train_size=0.7)\n",
    "\n",
    "    logr = LogisticRegression()\n",
    "    logr.fit(x_train, y_train)\n",
    "\n",
    "    scores = cross_val_score(logr, x_train, y_train, cv=10)\n",
    "\n",
    "    scores = pd.Series(scores)\n",
    "    return scores.mean();"
   ]
  },
  {
   "cell_type": "code",
   "execution_count": 24,
   "metadata": {},
   "outputs": [
    {
     "name": "stdout",
     "output_type": "stream",
     "text": [
      "Cross-Validation Accuracy Scores with 1000 iterations:\n",
      "   mean:  85.54\n",
      "Cross-Validation Accuracy Scores (PCA) with 1000 iterations:\n",
      "   mean:  85.53\n"
     ]
    }
   ],
   "source": [
    "totalMean = 0\n",
    "iterations = 1000\n",
    "\n",
    "for i in range(iterations):\n",
    "    totalMean += logCrosvalLoop()\n",
    "    \n",
    "totalMean = totalMean/iterations\n",
    "    \n",
    "print('Cross-Validation Accuracy Scores with', iterations, 'iterations:') \n",
    "print('   mean: ', str(round((totalMean*100), 2)))\n",
    "\n",
    "\n",
    "totalMean = 0\n",
    "for i in range(iterations):\n",
    "    totalMean += logCrosvalLoopPCA()\n",
    "    \n",
    "totalMean = totalMean/iterations\n",
    "    \n",
    "print('Cross-Validation Accuracy Scores (PCA) with', iterations, 'iterations:') \n",
    "print('   mean: ', str(round((totalMean*100), 2)))"
   ]
  }
 ],
 "metadata": {
  "kernelspec": {
   "display_name": "Python 3",
   "language": "python",
   "name": "python3"
  },
  "language_info": {
   "codemirror_mode": {
    "name": "ipython",
    "version": 3
   },
   "file_extension": ".py",
   "mimetype": "text/x-python",
   "name": "python",
   "nbconvert_exporter": "python",
   "pygments_lexer": "ipython3",
   "version": "3.8.5"
  }
 },
 "nbformat": 4,
 "nbformat_minor": 5
}
